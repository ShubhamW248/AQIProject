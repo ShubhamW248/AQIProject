{
 "cells": [
  {
   "cell_type": "code",
   "execution_count": 1,
   "metadata": {},
   "outputs": [],
   "source": [
    "import pandas as pd\n",
    "\n",
    "df=pd.read_csv('city_day.csv')"
   ]
  },
  {
   "cell_type": "code",
   "execution_count": 3,
   "metadata": {},
   "outputs": [
    {
     "name": "stdout",
     "output_type": "stream",
     "text": [
      "<class 'pandas.core.frame.DataFrame'>\n",
      "RangeIndex: 29531 entries, 0 to 29530\n",
      "Data columns (total 16 columns):\n",
      " #   Column      Non-Null Count  Dtype  \n",
      "---  ------      --------------  -----  \n",
      " 0   City        29531 non-null  object \n",
      " 1   Date        29531 non-null  object \n",
      " 2   PM2.5       24933 non-null  float64\n",
      " 3   PM10        18391 non-null  float64\n",
      " 4   NO          25949 non-null  float64\n",
      " 5   NO2         25946 non-null  float64\n",
      " 6   NOx         25346 non-null  float64\n",
      " 7   NH3         19203 non-null  float64\n",
      " 8   CO          27472 non-null  float64\n",
      " 9   SO2         25677 non-null  float64\n",
      " 10  O3          25509 non-null  float64\n",
      " 11  Benzene     23908 non-null  float64\n",
      " 12  Toluene     21490 non-null  float64\n",
      " 13  Xylene      11422 non-null  float64\n",
      " 14  AQI         24850 non-null  float64\n",
      " 15  AQI_Bucket  24850 non-null  object \n",
      "dtypes: float64(13), object(3)\n",
      "memory usage: 3.6+ MB\n"
     ]
    }
   ],
   "source": [
    "df.head()\n",
    "df.info()"
   ]
  },
  {
   "cell_type": "code",
   "execution_count": 5,
   "metadata": {},
   "outputs": [
    {
     "data": {
      "text/plain": [
       "472496"
      ]
     },
     "execution_count": 5,
     "metadata": {},
     "output_type": "execute_result"
    }
   ],
   "source": [
    "df.size"
   ]
  },
  {
   "cell_type": "code",
   "execution_count": 6,
   "metadata": {},
   "outputs": [
    {
     "data": {
      "text/plain": [
       "397600"
      ]
     },
     "execution_count": 6,
     "metadata": {},
     "output_type": "execute_result"
    }
   ],
   "source": [
    "df = df.dropna(subset=['AQI'])\n",
    "df.size"
   ]
  },
  {
   "cell_type": "code",
   "execution_count": 8,
   "metadata": {},
   "outputs": [
    {
     "name": "stdout",
     "output_type": "stream",
     "text": [
      "<class 'pandas.core.frame.DataFrame'>\n",
      "Index: 24850 entries, 28 to 29530\n",
      "Data columns (total 16 columns):\n",
      " #   Column      Non-Null Count  Dtype         \n",
      "---  ------      --------------  -----         \n",
      " 0   City        24850 non-null  object        \n",
      " 1   Date        24850 non-null  datetime64[ns]\n",
      " 2   PM2.5       24172 non-null  float64       \n",
      " 3   PM10        17764 non-null  float64       \n",
      " 4   NO          24463 non-null  float64       \n",
      " 5   NO2         24459 non-null  float64       \n",
      " 6   NOx         22993 non-null  float64       \n",
      " 7   NH3         18314 non-null  float64       \n",
      " 8   CO          24405 non-null  float64       \n",
      " 9   SO2         24245 non-null  float64       \n",
      " 10  O3          24043 non-null  float64       \n",
      " 11  Benzene     21315 non-null  float64       \n",
      " 12  Toluene     19024 non-null  float64       \n",
      " 13  Xylene      9478 non-null   float64       \n",
      " 14  AQI         24850 non-null  float64       \n",
      " 15  AQI_Bucket  24850 non-null  object        \n",
      "dtypes: datetime64[ns](1), float64(13), object(2)\n",
      "memory usage: 3.2+ MB\n"
     ]
    }
   ],
   "source": [
    "df['Date'] = pd.to_datetime(df['Date'])\n",
    "df.info()"
   ]
  },
  {
   "cell_type": "code",
   "execution_count": null,
   "metadata": {},
   "outputs": [],
   "source": []
  },
  {
   "cell_type": "code",
   "execution_count": 9,
   "metadata": {},
   "outputs": [
    {
     "data": {
      "text/plain": [
       "array(['Ahmedabad', 'Aizawl', 'Amaravati', 'Amritsar', 'Bengaluru',\n",
       "       'Bhopal', 'Brajrajnagar', 'Chandigarh', 'Chennai', 'Coimbatore',\n",
       "       'Delhi', 'Ernakulam', 'Gurugram', 'Guwahati', 'Hyderabad',\n",
       "       'Jaipur', 'Jorapokhar', 'Kochi', 'Kolkata', 'Lucknow', 'Mumbai',\n",
       "       'Patna', 'Shillong', 'Talcher', 'Thiruvananthapuram',\n",
       "       'Visakhapatnam'], dtype=object)"
      ]
     },
     "execution_count": 9,
     "metadata": {},
     "output_type": "execute_result"
    }
   ],
   "source": [
    "df['City'].unique()"
   ]
  },
  {
   "cell_type": "code",
   "execution_count": 12,
   "metadata": {},
   "outputs": [
    {
     "ename": "KeyError",
     "evalue": "\"None of [Index(['City'], dtype='object')] are in the [columns]\"",
     "output_type": "error",
     "traceback": [
      "\u001b[1;31m---------------------------------------------------------------------------\u001b[0m",
      "\u001b[1;31mKeyError\u001b[0m                                  Traceback (most recent call last)",
      "\u001b[1;32mc:\\AQI\\AQIProject\\aq.ipynb Cell 7\u001b[0m line \u001b[0;36m2\n\u001b[0;32m      <a href='vscode-notebook-cell:/c%3A/AQI/AQIProject/aq.ipynb#W6sZmlsZQ%3D%3D?line=0'>1</a>\u001b[0m \u001b[39m# Perform one-hot encoding\u001b[39;00m\n\u001b[1;32m----> <a href='vscode-notebook-cell:/c%3A/AQI/AQIProject/aq.ipynb#W6sZmlsZQ%3D%3D?line=1'>2</a>\u001b[0m df \u001b[39m=\u001b[39m pd\u001b[39m.\u001b[39;49mget_dummies(df, columns\u001b[39m=\u001b[39;49m[\u001b[39m'\u001b[39;49m\u001b[39mCity\u001b[39;49m\u001b[39m'\u001b[39;49m], drop_first\u001b[39m=\u001b[39;49m\u001b[39mTrue\u001b[39;49;00m)\n\u001b[0;32m      <a href='vscode-notebook-cell:/c%3A/AQI/AQIProject/aq.ipynb#W6sZmlsZQ%3D%3D?line=3'>4</a>\u001b[0m \u001b[39m# Create a dictionary to map new columns to original cities\u001b[39;00m\n\u001b[0;32m      <a href='vscode-notebook-cell:/c%3A/AQI/AQIProject/aq.ipynb#W6sZmlsZQ%3D%3D?line=4'>5</a>\u001b[0m city_mapping \u001b[39m=\u001b[39m {col\u001b[39m.\u001b[39mreplace(\u001b[39m'\u001b[39m\u001b[39mCity_\u001b[39m\u001b[39m'\u001b[39m, \u001b[39m'\u001b[39m\u001b[39m'\u001b[39m): col \u001b[39mfor\u001b[39;00m col \u001b[39min\u001b[39;00m df\u001b[39m.\u001b[39mcolumns \u001b[39mif\u001b[39;00m col\u001b[39m.\u001b[39mstartswith(\u001b[39m'\u001b[39m\u001b[39mCity_\u001b[39m\u001b[39m'\u001b[39m)}\n",
      "File \u001b[1;32mc:\\Users\\Shubham\\virtualenv\\Lib\\site-packages\\pandas\\core\\reshape\\encoding.py:164\u001b[0m, in \u001b[0;36mget_dummies\u001b[1;34m(data, prefix, prefix_sep, dummy_na, columns, sparse, drop_first, dtype)\u001b[0m\n\u001b[0;32m    162\u001b[0m     \u001b[39mraise\u001b[39;00m \u001b[39mTypeError\u001b[39;00m(\u001b[39m\"\u001b[39m\u001b[39mInput must be a list-like for parameter `columns`\u001b[39m\u001b[39m\"\u001b[39m)\n\u001b[0;32m    163\u001b[0m \u001b[39melse\u001b[39;00m:\n\u001b[1;32m--> 164\u001b[0m     data_to_encode \u001b[39m=\u001b[39m data[columns]\n\u001b[0;32m    166\u001b[0m \u001b[39m# validate prefixes and separator to avoid silently dropping cols\u001b[39;00m\n\u001b[0;32m    167\u001b[0m \u001b[39mdef\u001b[39;00m \u001b[39mcheck_len\u001b[39m(item, name: \u001b[39mstr\u001b[39m):\n",
      "File \u001b[1;32mc:\\Users\\Shubham\\virtualenv\\Lib\\site-packages\\pandas\\core\\frame.py:3899\u001b[0m, in \u001b[0;36mDataFrame.__getitem__\u001b[1;34m(self, key)\u001b[0m\n\u001b[0;32m   3897\u001b[0m     \u001b[39mif\u001b[39;00m is_iterator(key):\n\u001b[0;32m   3898\u001b[0m         key \u001b[39m=\u001b[39m \u001b[39mlist\u001b[39m(key)\n\u001b[1;32m-> 3899\u001b[0m     indexer \u001b[39m=\u001b[39m \u001b[39mself\u001b[39;49m\u001b[39m.\u001b[39;49mcolumns\u001b[39m.\u001b[39;49m_get_indexer_strict(key, \u001b[39m\"\u001b[39;49m\u001b[39mcolumns\u001b[39;49m\u001b[39m\"\u001b[39;49m)[\u001b[39m1\u001b[39m]\n\u001b[0;32m   3901\u001b[0m \u001b[39m# take() does not accept boolean indexers\u001b[39;00m\n\u001b[0;32m   3902\u001b[0m \u001b[39mif\u001b[39;00m \u001b[39mgetattr\u001b[39m(indexer, \u001b[39m\"\u001b[39m\u001b[39mdtype\u001b[39m\u001b[39m\"\u001b[39m, \u001b[39mNone\u001b[39;00m) \u001b[39m==\u001b[39m \u001b[39mbool\u001b[39m:\n",
      "File \u001b[1;32mc:\\Users\\Shubham\\virtualenv\\Lib\\site-packages\\pandas\\core\\indexes\\base.py:6114\u001b[0m, in \u001b[0;36mIndex._get_indexer_strict\u001b[1;34m(self, key, axis_name)\u001b[0m\n\u001b[0;32m   6111\u001b[0m \u001b[39melse\u001b[39;00m:\n\u001b[0;32m   6112\u001b[0m     keyarr, indexer, new_indexer \u001b[39m=\u001b[39m \u001b[39mself\u001b[39m\u001b[39m.\u001b[39m_reindex_non_unique(keyarr)\n\u001b[1;32m-> 6114\u001b[0m \u001b[39mself\u001b[39;49m\u001b[39m.\u001b[39;49m_raise_if_missing(keyarr, indexer, axis_name)\n\u001b[0;32m   6116\u001b[0m keyarr \u001b[39m=\u001b[39m \u001b[39mself\u001b[39m\u001b[39m.\u001b[39mtake(indexer)\n\u001b[0;32m   6117\u001b[0m \u001b[39mif\u001b[39;00m \u001b[39misinstance\u001b[39m(key, Index):\n\u001b[0;32m   6118\u001b[0m     \u001b[39m# GH 42790 - Preserve name from an Index\u001b[39;00m\n",
      "File \u001b[1;32mc:\\Users\\Shubham\\virtualenv\\Lib\\site-packages\\pandas\\core\\indexes\\base.py:6175\u001b[0m, in \u001b[0;36mIndex._raise_if_missing\u001b[1;34m(self, key, indexer, axis_name)\u001b[0m\n\u001b[0;32m   6173\u001b[0m     \u001b[39mif\u001b[39;00m use_interval_msg:\n\u001b[0;32m   6174\u001b[0m         key \u001b[39m=\u001b[39m \u001b[39mlist\u001b[39m(key)\n\u001b[1;32m-> 6175\u001b[0m     \u001b[39mraise\u001b[39;00m \u001b[39mKeyError\u001b[39;00m(\u001b[39mf\u001b[39m\u001b[39m\"\u001b[39m\u001b[39mNone of [\u001b[39m\u001b[39m{\u001b[39;00mkey\u001b[39m}\u001b[39;00m\u001b[39m] are in the [\u001b[39m\u001b[39m{\u001b[39;00maxis_name\u001b[39m}\u001b[39;00m\u001b[39m]\u001b[39m\u001b[39m\"\u001b[39m)\n\u001b[0;32m   6177\u001b[0m not_found \u001b[39m=\u001b[39m \u001b[39mlist\u001b[39m(ensure_index(key)[missing_mask\u001b[39m.\u001b[39mnonzero()[\u001b[39m0\u001b[39m]]\u001b[39m.\u001b[39munique())\n\u001b[0;32m   6178\u001b[0m \u001b[39mraise\u001b[39;00m \u001b[39mKeyError\u001b[39;00m(\u001b[39mf\u001b[39m\u001b[39m\"\u001b[39m\u001b[39m{\u001b[39;00mnot_found\u001b[39m}\u001b[39;00m\u001b[39m not in index\u001b[39m\u001b[39m\"\u001b[39m)\n",
      "\u001b[1;31mKeyError\u001b[0m: \"None of [Index(['City'], dtype='object')] are in the [columns]\""
     ]
    }
   ],
   "source": [
    "# Perform one-hot encoding\n",
    "df = pd.get_dummies(df, columns=['City'], drop_first=True)\n",
    "\n",
    "# Create a dictionary to map new columns to original cities\n",
    "city_mapping = {col.replace('City_', ''): col for col in df.columns if col.startswith('City_')}\n",
    "\n",
    "# Display the mapping\n",
    "print(city_mapping)\n",
    "\n"
   ]
  },
  {
   "cell_type": "code",
   "execution_count": 15,
   "metadata": {},
   "outputs": [
    {
     "name": "stdout",
     "output_type": "stream",
     "text": [
      "{'Aizawl': 'City_Aizawl', 'Amaravati': 'City_Amaravati', 'Amritsar': 'City_Amritsar', 'Bengaluru': 'City_Bengaluru', 'Bhopal': 'City_Bhopal', 'Brajrajnagar': 'City_Brajrajnagar', 'Chandigarh': 'City_Chandigarh', 'Chennai': 'City_Chennai', 'Coimbatore': 'City_Coimbatore', 'Delhi': 'City_Delhi', 'Ernakulam': 'City_Ernakulam', 'Gurugram': 'City_Gurugram', 'Guwahati': 'City_Guwahati', 'Hyderabad': 'City_Hyderabad', 'Jaipur': 'City_Jaipur', 'Jorapokhar': 'City_Jorapokhar', 'Kochi': 'City_Kochi', 'Kolkata': 'City_Kolkata', 'Lucknow': 'City_Lucknow', 'Mumbai': 'City_Mumbai', 'Patna': 'City_Patna', 'Shillong': 'City_Shillong', 'Talcher': 'City_Talcher', 'Thiruvananthapuram': 'City_Thiruvananthapuram', 'Visakhapatnam': 'City_Visakhapatnam'}\n"
     ]
    },
    {
     "data": {
      "text/html": [
       "<div>\n",
       "<style scoped>\n",
       "    .dataframe tbody tr th:only-of-type {\n",
       "        vertical-align: middle;\n",
       "    }\n",
       "\n",
       "    .dataframe tbody tr th {\n",
       "        vertical-align: top;\n",
       "    }\n",
       "\n",
       "    .dataframe thead th {\n",
       "        text-align: right;\n",
       "    }\n",
       "</style>\n",
       "<table border=\"1\" class=\"dataframe\">\n",
       "  <thead>\n",
       "    <tr style=\"text-align: right;\">\n",
       "      <th></th>\n",
       "      <th>Date</th>\n",
       "      <th>PM2.5</th>\n",
       "      <th>PM10</th>\n",
       "      <th>NO</th>\n",
       "      <th>NO2</th>\n",
       "      <th>NOx</th>\n",
       "      <th>NH3</th>\n",
       "      <th>CO</th>\n",
       "      <th>SO2</th>\n",
       "      <th>O3</th>\n",
       "      <th>...</th>\n",
       "      <th>City_Jorapokhar</th>\n",
       "      <th>City_Kochi</th>\n",
       "      <th>City_Kolkata</th>\n",
       "      <th>City_Lucknow</th>\n",
       "      <th>City_Mumbai</th>\n",
       "      <th>City_Patna</th>\n",
       "      <th>City_Shillong</th>\n",
       "      <th>City_Talcher</th>\n",
       "      <th>City_Thiruvananthapuram</th>\n",
       "      <th>City_Visakhapatnam</th>\n",
       "    </tr>\n",
       "  </thead>\n",
       "  <tbody>\n",
       "    <tr>\n",
       "      <th>28</th>\n",
       "      <td>2015-01-29</td>\n",
       "      <td>83.13</td>\n",
       "      <td>NaN</td>\n",
       "      <td>6.93</td>\n",
       "      <td>28.71</td>\n",
       "      <td>33.72</td>\n",
       "      <td>NaN</td>\n",
       "      <td>6.93</td>\n",
       "      <td>49.52</td>\n",
       "      <td>59.76</td>\n",
       "      <td>...</td>\n",
       "      <td>False</td>\n",
       "      <td>False</td>\n",
       "      <td>False</td>\n",
       "      <td>False</td>\n",
       "      <td>False</td>\n",
       "      <td>False</td>\n",
       "      <td>False</td>\n",
       "      <td>False</td>\n",
       "      <td>False</td>\n",
       "      <td>False</td>\n",
       "    </tr>\n",
       "    <tr>\n",
       "      <th>29</th>\n",
       "      <td>2015-01-30</td>\n",
       "      <td>79.84</td>\n",
       "      <td>NaN</td>\n",
       "      <td>13.85</td>\n",
       "      <td>28.68</td>\n",
       "      <td>41.08</td>\n",
       "      <td>NaN</td>\n",
       "      <td>13.85</td>\n",
       "      <td>48.49</td>\n",
       "      <td>97.07</td>\n",
       "      <td>...</td>\n",
       "      <td>False</td>\n",
       "      <td>False</td>\n",
       "      <td>False</td>\n",
       "      <td>False</td>\n",
       "      <td>False</td>\n",
       "      <td>False</td>\n",
       "      <td>False</td>\n",
       "      <td>False</td>\n",
       "      <td>False</td>\n",
       "      <td>False</td>\n",
       "    </tr>\n",
       "    <tr>\n",
       "      <th>30</th>\n",
       "      <td>2015-01-31</td>\n",
       "      <td>94.52</td>\n",
       "      <td>NaN</td>\n",
       "      <td>24.39</td>\n",
       "      <td>32.66</td>\n",
       "      <td>52.61</td>\n",
       "      <td>NaN</td>\n",
       "      <td>24.39</td>\n",
       "      <td>67.39</td>\n",
       "      <td>111.33</td>\n",
       "      <td>...</td>\n",
       "      <td>False</td>\n",
       "      <td>False</td>\n",
       "      <td>False</td>\n",
       "      <td>False</td>\n",
       "      <td>False</td>\n",
       "      <td>False</td>\n",
       "      <td>False</td>\n",
       "      <td>False</td>\n",
       "      <td>False</td>\n",
       "      <td>False</td>\n",
       "    </tr>\n",
       "    <tr>\n",
       "      <th>31</th>\n",
       "      <td>2015-02-01</td>\n",
       "      <td>135.99</td>\n",
       "      <td>NaN</td>\n",
       "      <td>43.48</td>\n",
       "      <td>42.08</td>\n",
       "      <td>84.57</td>\n",
       "      <td>NaN</td>\n",
       "      <td>43.48</td>\n",
       "      <td>75.23</td>\n",
       "      <td>102.70</td>\n",
       "      <td>...</td>\n",
       "      <td>False</td>\n",
       "      <td>False</td>\n",
       "      <td>False</td>\n",
       "      <td>False</td>\n",
       "      <td>False</td>\n",
       "      <td>False</td>\n",
       "      <td>False</td>\n",
       "      <td>False</td>\n",
       "      <td>False</td>\n",
       "      <td>False</td>\n",
       "    </tr>\n",
       "    <tr>\n",
       "      <th>32</th>\n",
       "      <td>2015-02-02</td>\n",
       "      <td>178.33</td>\n",
       "      <td>NaN</td>\n",
       "      <td>54.56</td>\n",
       "      <td>35.31</td>\n",
       "      <td>72.80</td>\n",
       "      <td>NaN</td>\n",
       "      <td>54.56</td>\n",
       "      <td>55.04</td>\n",
       "      <td>107.38</td>\n",
       "      <td>...</td>\n",
       "      <td>False</td>\n",
       "      <td>False</td>\n",
       "      <td>False</td>\n",
       "      <td>False</td>\n",
       "      <td>False</td>\n",
       "      <td>False</td>\n",
       "      <td>False</td>\n",
       "      <td>False</td>\n",
       "      <td>False</td>\n",
       "      <td>False</td>\n",
       "    </tr>\n",
       "  </tbody>\n",
       "</table>\n",
       "<p>5 rows × 40 columns</p>\n",
       "</div>"
      ],
      "text/plain": [
       "         Date   PM2.5  PM10     NO    NO2    NOx  NH3     CO    SO2      O3  \\\n",
       "28 2015-01-29   83.13   NaN   6.93  28.71  33.72  NaN   6.93  49.52   59.76   \n",
       "29 2015-01-30   79.84   NaN  13.85  28.68  41.08  NaN  13.85  48.49   97.07   \n",
       "30 2015-01-31   94.52   NaN  24.39  32.66  52.61  NaN  24.39  67.39  111.33   \n",
       "31 2015-02-01  135.99   NaN  43.48  42.08  84.57  NaN  43.48  75.23  102.70   \n",
       "32 2015-02-02  178.33   NaN  54.56  35.31  72.80  NaN  54.56  55.04  107.38   \n",
       "\n",
       "    ...  City_Jorapokhar  City_Kochi  City_Kolkata  City_Lucknow City_Mumbai  \\\n",
       "28  ...            False       False         False         False       False   \n",
       "29  ...            False       False         False         False       False   \n",
       "30  ...            False       False         False         False       False   \n",
       "31  ...            False       False         False         False       False   \n",
       "32  ...            False       False         False         False       False   \n",
       "\n",
       "    City_Patna  City_Shillong  City_Talcher  City_Thiruvananthapuram  \\\n",
       "28       False          False         False                    False   \n",
       "29       False          False         False                    False   \n",
       "30       False          False         False                    False   \n",
       "31       False          False         False                    False   \n",
       "32       False          False         False                    False   \n",
       "\n",
       "    City_Visakhapatnam  \n",
       "28               False  \n",
       "29               False  \n",
       "30               False  \n",
       "31               False  \n",
       "32               False  \n",
       "\n",
       "[5 rows x 40 columns]"
      ]
     },
     "execution_count": 15,
     "metadata": {},
     "output_type": "execute_result"
    }
   ],
   "source": [
    "print(city_mapping)\n",
    "df.head()"
   ]
  },
  {
   "cell_type": "code",
   "execution_count": 16,
   "metadata": {},
   "outputs": [],
   "source": [
    "df['Month'] = df['Date'].dt.month\n"
   ]
  },
  {
   "cell_type": "code",
   "execution_count": 17,
   "metadata": {},
   "outputs": [
    {
     "name": "stdout",
     "output_type": "stream",
     "text": [
      "Pearson Correlation between Date and AQI: -0.19427154059696877\n",
      "Pearson Correlation between Month and AQI: 0.022163462192538293\n"
     ]
    }
   ],
   "source": [
    "correlation_date_aqi = df['Date'].corr(df['AQI'])\n",
    "print(f\"Pearson Correlation between Date and AQI: {correlation_date_aqi}\")\n",
    "correlation_month_aqi = df['Month'].corr(df['AQI'])\n",
    "print(f\"Pearson Correlation between Month and AQI: {correlation_month_aqi}\")\n"
   ]
  },
  {
   "cell_type": "code",
   "execution_count": 18,
   "metadata": {},
   "outputs": [
    {
     "data": {
      "text/plain": [
       "array(['Poor', 'Very Poor', 'Severe', 'Moderate', 'Satisfactory', 'Good'],\n",
       "      dtype=object)"
      ]
     },
     "execution_count": 18,
     "metadata": {},
     "output_type": "execute_result"
    }
   ],
   "source": [
    "df['AQI_Bucket'].unique()"
   ]
  },
  {
   "cell_type": "code",
   "execution_count": 19,
   "metadata": {},
   "outputs": [
    {
     "name": "stdout",
     "output_type": "stream",
     "text": [
      "     AQI_Bucket    min     max\n",
      "0          Good   13.0    50.0\n",
      "1      Moderate  101.0   200.0\n",
      "2          Poor  201.0   300.0\n",
      "3  Satisfactory   51.0   100.0\n",
      "4        Severe  401.0  2049.0\n",
      "5     Very Poor  301.0   400.0\n"
     ]
    }
   ],
   "source": [
    "aqi_stats = df.groupby('AQI_Bucket')['AQI'].agg(['min', 'max']).reset_index()\n",
    "\n",
    "print(aqi_stats)\n"
   ]
  },
  {
   "cell_type": "code",
   "execution_count": 20,
   "metadata": {},
   "outputs": [],
   "source": [
    "df.drop(['AQI_Bucket'], axis=1, inplace=True)\n"
   ]
  },
  {
   "cell_type": "code",
   "execution_count": 21,
   "metadata": {},
   "outputs": [
    {
     "name": "stdout",
     "output_type": "stream",
     "text": [
      "<class 'pandas.core.frame.DataFrame'>\n",
      "Index: 24850 entries, 28 to 29530\n",
      "Data columns (total 40 columns):\n",
      " #   Column                   Non-Null Count  Dtype         \n",
      "---  ------                   --------------  -----         \n",
      " 0   Date                     24850 non-null  datetime64[ns]\n",
      " 1   PM2.5                    24172 non-null  float64       \n",
      " 2   PM10                     17764 non-null  float64       \n",
      " 3   NO                       24463 non-null  float64       \n",
      " 4   NO2                      24459 non-null  float64       \n",
      " 5   NOx                      22993 non-null  float64       \n",
      " 6   NH3                      18314 non-null  float64       \n",
      " 7   CO                       24405 non-null  float64       \n",
      " 8   SO2                      24245 non-null  float64       \n",
      " 9   O3                       24043 non-null  float64       \n",
      " 10  Benzene                  21315 non-null  float64       \n",
      " 11  Toluene                  19024 non-null  float64       \n",
      " 12  Xylene                   9478 non-null   float64       \n",
      " 13  AQI                      24850 non-null  float64       \n",
      " 14  City_Aizawl              24850 non-null  bool          \n",
      " 15  City_Amaravati           24850 non-null  bool          \n",
      " 16  City_Amritsar            24850 non-null  bool          \n",
      " 17  City_Bengaluru           24850 non-null  bool          \n",
      " 18  City_Bhopal              24850 non-null  bool          \n",
      " 19  City_Brajrajnagar        24850 non-null  bool          \n",
      " 20  City_Chandigarh          24850 non-null  bool          \n",
      " 21  City_Chennai             24850 non-null  bool          \n",
      " 22  City_Coimbatore          24850 non-null  bool          \n",
      " 23  City_Delhi               24850 non-null  bool          \n",
      " 24  City_Ernakulam           24850 non-null  bool          \n",
      " 25  City_Gurugram            24850 non-null  bool          \n",
      " 26  City_Guwahati            24850 non-null  bool          \n",
      " 27  City_Hyderabad           24850 non-null  bool          \n",
      " 28  City_Jaipur              24850 non-null  bool          \n",
      " 29  City_Jorapokhar          24850 non-null  bool          \n",
      " 30  City_Kochi               24850 non-null  bool          \n",
      " 31  City_Kolkata             24850 non-null  bool          \n",
      " 32  City_Lucknow             24850 non-null  bool          \n",
      " 33  City_Mumbai              24850 non-null  bool          \n",
      " 34  City_Patna               24850 non-null  bool          \n",
      " 35  City_Shillong            24850 non-null  bool          \n",
      " 36  City_Talcher             24850 non-null  bool          \n",
      " 37  City_Thiruvananthapuram  24850 non-null  bool          \n",
      " 38  City_Visakhapatnam       24850 non-null  bool          \n",
      " 39  Month                    24850 non-null  int32         \n",
      "dtypes: bool(25), datetime64[ns](1), float64(13), int32(1)\n",
      "memory usage: 3.5 MB\n"
     ]
    }
   ],
   "source": [
    "df.info()"
   ]
  },
  {
   "cell_type": "code",
   "execution_count": 22,
   "metadata": {},
   "outputs": [
    {
     "name": "stdout",
     "output_type": "stream",
     "text": [
      "Pearson Correlation:\n",
      "AQI                        1.000000\n",
      "PM10                       0.803313\n",
      "CO                         0.683346\n",
      "PM2.5                      0.659181\n",
      "NO2                        0.537071\n",
      "SO2                        0.490586\n",
      "NOx                        0.486450\n",
      "NO                         0.452191\n",
      "Toluene                    0.279992\n",
      "NH3                        0.252019\n",
      "O3                         0.198991\n",
      "City_Delhi                 0.195558\n",
      "Xylene                     0.165532\n",
      "City_Patna                 0.131924\n",
      "City_Lucknow               0.105131\n",
      "City_Gurugram              0.103902\n",
      "Benzene                    0.044407\n",
      "Month                      0.022163\n",
      "City_Talcher               0.007761\n",
      "City_Jorapokhar           -0.009172\n",
      "City_Brajrajnagar         -0.019769\n",
      "City_Bhopal               -0.025429\n",
      "City_Guwahati             -0.026703\n",
      "City_Kolkata              -0.032561\n",
      "City_Kochi                -0.035352\n",
      "City_Ernakulam            -0.041456\n",
      "City_Jaipur               -0.050005\n",
      "City_Chandigarh           -0.054879\n",
      "City_Aizawl               -0.062701\n",
      "City_Amritsar             -0.072069\n",
      "City_Shillong             -0.073037\n",
      "City_Visakhapatnam        -0.077756\n",
      "City_Mumbai               -0.077932\n",
      "City_Coimbatore           -0.078687\n",
      "City_Amaravati            -0.094666\n",
      "City_Chennai              -0.105779\n",
      "City_Hyderabad            -0.116425\n",
      "City_Thiruvananthapuram   -0.135369\n",
      "City_Bengaluru            -0.147963\n",
      "Date                      -0.194272\n",
      "Name: AQI, dtype: float64\n",
      "\n",
      "Kendall Tau Correlation:\n",
      "AQI                        1.000000\n",
      "PM10                       0.703241\n",
      "PM2.5                      0.680044\n",
      "CO                         0.393481\n",
      "NOx                        0.338239\n",
      "NO                         0.325432\n",
      "NO2                        0.324722\n",
      "SO2                        0.260428\n",
      "NH3                        0.255352\n",
      "Toluene                    0.252908\n",
      "City_Delhi                 0.205988\n",
      "O3                         0.190830\n",
      "Benzene                    0.175634\n",
      "City_Patna                 0.148368\n",
      "City_Lucknow               0.126781\n",
      "City_Gurugram              0.121777\n",
      "Xylene                     0.118447\n",
      "City_Jorapokhar            0.032785\n",
      "City_Talcher               0.031061\n",
      "City_Brajrajnagar          0.020301\n",
      "City_Jaipur                0.000993\n",
      "City_Bhopal               -0.001351\n",
      "City_Kochi                -0.026228\n",
      "Month                     -0.028279\n",
      "City_Guwahati             -0.036393\n",
      "City_Ernakulam            -0.039319\n",
      "City_Kolkata              -0.041860\n",
      "City_Visakhapatnam        -0.048350\n",
      "City_Amritsar             -0.059489\n",
      "City_Chandigarh           -0.061141\n",
      "City_Mumbai               -0.069471\n",
      "City_Chennai              -0.073587\n",
      "City_Hyderabad            -0.086902\n",
      "City_Aizawl               -0.087224\n",
      "City_Coimbatore           -0.100404\n",
      "City_Shillong             -0.101528\n",
      "City_Amaravati            -0.106698\n",
      "City_Bengaluru            -0.150213\n",
      "City_Thiruvananthapuram   -0.172426\n",
      "Date                      -0.192027\n",
      "Name: AQI, dtype: float64\n"
     ]
    }
   ],
   "source": [
    "pearson_corr = df.corr()['AQI']\n",
    "\n",
    "# Calculate Kendall Tau correlation\n",
    "kendall_corr = df.corr(method='kendall')['AQI']\n",
    "\n",
    "# Display the results\n",
    "print(\"Pearson Correlation:\")\n",
    "print(pearson_corr.sort_values(ascending=False))\n",
    "\n",
    "print(\"\\nKendall Tau Correlation:\")\n",
    "print(kendall_corr.sort_values(ascending=False))\n"
   ]
  },
  {
   "cell_type": "code",
   "execution_count": null,
   "metadata": {},
   "outputs": [],
   "source": [
    "df.to_csv('AQI_Pre.csv',index=False)"
   ]
  }
 ],
 "metadata": {
  "kernelspec": {
   "display_name": "virtualenv",
   "language": "python",
   "name": "virtualenv"
  },
  "language_info": {
   "codemirror_mode": {
    "name": "ipython",
    "version": 3
   },
   "file_extension": ".py",
   "mimetype": "text/x-python",
   "name": "python",
   "nbconvert_exporter": "python",
   "pygments_lexer": "ipython3",
   "version": "3.11.0"
  }
 },
 "nbformat": 4,
 "nbformat_minor": 2
}
