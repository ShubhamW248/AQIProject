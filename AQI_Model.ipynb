{
 "cells": [
  {
   "cell_type": "code",
   "execution_count": 1,
   "metadata": {},
   "outputs": [],
   "source": [
    "import pandas as pd\n",
    "import numpy as np\n",
    "\n",
    "df=pd.read_csv('AQI_Pre.csv')"
   ]
  },
  {
   "cell_type": "code",
   "execution_count": 2,
   "metadata": {},
   "outputs": [],
   "source": [
    "df=df.drop(['Date','PM2.5'],axis=1)"
   ]
  },
  {
   "cell_type": "code",
   "execution_count": 3,
   "metadata": {},
   "outputs": [],
   "source": [
    "X=df.drop('AQI',axis=1)\n",
    "Y=df['AQI']"
   ]
  },
  {
   "cell_type": "code",
   "execution_count": 4,
   "metadata": {},
   "outputs": [
    {
     "name": "stdout",
     "output_type": "stream",
     "text": [
      "X_train shape: (19880, 37)\n",
      "X_test shape: (4970, 37)\n",
      "Y_train shape: (19880,)\n",
      "Y_test shape: (4970,)\n"
     ]
    }
   ],
   "source": [
    "from sklearn.model_selection import train_test_split\n",
    "X_train, X_test, Y_train, Y_test = train_test_split(X, Y, test_size=0.2, random_state=42)\n",
    "\n",
    "# Display the shape of the resulting sets\n",
    "print(\"X_train shape:\", X_train.shape)\n",
    "print(\"X_test shape:\", X_test.shape)\n",
    "print(\"Y_train shape:\", Y_train.shape)\n",
    "print(\"Y_test shape:\", Y_test.shape)\n"
   ]
  },
  {
   "cell_type": "code",
   "execution_count": 12,
   "metadata": {},
   "outputs": [],
   "source": [
    "from sklearn.impute import SimpleImputer\n",
    "\n",
    "# Assuming you have X and Y from your dataframe\n",
    "# X = df.drop('AQI', axis=1)\n",
    "# Y = df['AQI']\n",
    "\n",
    "# Split the data into training and testing sets\n",
    "X_train, X_test, Y_train, Y_test = train_test_split(X, Y, test_size=0.2, random_state=42)\n",
    "\n",
    "# Impute missing values in both X and Y\n",
    "imputer = SimpleImputer(strategy='mean')\n",
    "\n",
    "# Fit and transform the imputer on the training data for X\n",
    "X_train = imputer.fit_transform(X_train)\n",
    "X_test = imputer.transform(X_test)\n",
    "\n",
    "# Fit and transform the imputer on the training data for Y\n",
    "Y_train = imputer.fit_transform(Y_train.values.reshape(-1, 1)).ravel()\n",
    "Y_test = imputer.transform(Y_test.values.reshape(-1, 1)).ravel()\n",
    "\n",
    "# Continue with the rest of your code (scaling, model training, evaluation, etc.)\n"
   ]
  },
  {
   "cell_type": "code",
   "execution_count": 15,
   "metadata": {},
   "outputs": [
    {
     "name": "stdout",
     "output_type": "stream",
     "text": [
      "Metrics without Standard Scaling:\n",
      "Mean Squared Error (MSE): 4950.093285091771\n",
      "Root Mean Squared Error (RMSE): 70.35689934250777\n",
      "Mean Absolute Error (MAE): 41.90695003518236\n",
      "R-squared (R2): 0.7296659076835249\n",
      "\n",
      "Metrics with Standard Scaling:\n",
      "Mean Squared Error (MSE): 4950.093285091774\n",
      "Root Mean Squared Error (RMSE): 70.3568993425078\n",
      "Mean Absolute Error (MAE): 41.90695003518237\n",
      "R-squared (R2): 0.7296659076835247\n"
     ]
    }
   ],
   "source": [
    "from sklearn.preprocessing import StandardScaler\n",
    "from sklearn.model_selection import train_test_split\n",
    "from sklearn.linear_model import LinearRegression\n",
    "from sklearn.metrics import mean_squared_error, mean_absolute_error, r2_score\n",
    "import numpy as np\n",
    "\n",
    "# Assuming you have X and Y from your dataframe\n",
    "# X = df.drop('AQI', axis=1)\n",
    "# Y = df['AQI']\n",
    "\n",
    "# Split the data into training and testing sets\n",
    "\n",
    "# Model without standard scaling\n",
    "linear_model_no_scaling = LinearRegression()\n",
    "linear_model_no_scaling.fit(X_train, Y_train)\n",
    "Y_pred_no_scaling = linear_model_no_scaling.predict(X_test)\n",
    "\n",
    "# Model with standard scaling\n",
    "scaler = StandardScaler()\n",
    "X_train_scaled = scaler.fit_transform(X_train)\n",
    "X_test_scaled = scaler.transform(X_test)\n",
    "\n",
    "linear_model_with_scaling = LinearRegression()\n",
    "linear_model_with_scaling.fit(X_train_scaled, Y_train)\n",
    "Y_pred_with_scaling = linear_model_with_scaling.predict(X_test_scaled)\n",
    "\n",
    "# Evaluate models\n",
    "mse_no_scaling = mean_squared_error(Y_test, Y_pred_no_scaling)\n",
    "rmse_no_scaling = np.sqrt(mse_no_scaling)\n",
    "mae_no_scaling = mean_absolute_error(Y_test, Y_pred_no_scaling)\n",
    "r2_no_scaling = r2_score(Y_test, Y_pred_no_scaling)\n",
    "\n",
    "mse_with_scaling = mean_squared_error(Y_test, Y_pred_with_scaling)\n",
    "rmse_with_scaling = np.sqrt(mse_with_scaling)\n",
    "mae_with_scaling = mean_absolute_error(Y_test, Y_pred_with_scaling)\n",
    "r2_with_scaling = r2_score(Y_test, Y_pred_with_scaling)\n",
    "\n",
    "# Print evaluation metrics for both models\n",
    "print(\"Metrics without Standard Scaling:\")\n",
    "print(\"Mean Squared Error (MSE):\", mse_no_scaling)\n",
    "print(\"Root Mean Squared Error (RMSE):\", rmse_no_scaling)\n",
    "print(\"Mean Absolute Error (MAE):\", mae_no_scaling)\n",
    "print(\"R-squared (R2):\", r2_no_scaling)\n",
    "\n",
    "print(\"\\nMetrics with Standard Scaling:\")\n",
    "print(\"Mean Squared Error (MSE):\", mse_with_scaling)\n",
    "print(\"Root Mean Squared Error (RMSE):\", rmse_with_scaling)\n",
    "print(\"Mean Absolute Error (MAE):\", mae_with_scaling)\n",
    "print(\"R-squared (R2):\", r2_with_scaling)\n"
   ]
  },
  {
   "cell_type": "code",
   "execution_count": 18,
   "metadata": {},
   "outputs": [
    {
     "name": "stdout",
     "output_type": "stream",
     "text": [
      "Metrics with PCA (10 components):\n",
      "Mean Squared Error (MSE): 5996.43409706962\n",
      "Root Mean Squared Error (RMSE): 77.43664569872342\n",
      "Mean Absolute Error (MAE): 46.85115041994363\n",
      "R-squared (R2): 0.6725232282694598\n"
     ]
    }
   ],
   "source": [
    "from sklearn.decomposition import PCA\n",
    "from sklearn.linear_model import LinearRegression\n",
    "from sklearn.metrics import mean_squared_error, mean_absolute_error, r2_score\n",
    "import numpy as np\n",
    "\n",
    "# Assuming you have X and Y from your dataframe\n",
    "# X_train, X_test, Y_train, Y_test = train_test_split(X, Y, test_size=0.2, random_state=42)\n",
    "\n",
    "# Create a PCA with 10 components\n",
    "pca = PCA(n_components=10)\n",
    "\n",
    "# Fit and transform the training data\n",
    "X_train_pca = pca.fit_transform(X_train)\n",
    "\n",
    "# Transform the test data\n",
    "X_test_pca = pca.transform(X_test)\n",
    "\n",
    "# Create and fit a linear regression model\n",
    "linear_model_pca = LinearRegression()\n",
    "linear_model_pca.fit(X_train_pca, Y_train)\n",
    "\n",
    "# Predict on the test data\n",
    "Y_pred_pca = linear_model_pca.predict(X_test_pca)\n",
    "\n",
    "# Evaluate the model\n",
    "mse_pca = mean_squared_error(Y_test, Y_pred_pca)\n",
    "rmse_pca = np.sqrt(mse_pca)\n",
    "mae_pca = mean_absolute_error(Y_test, Y_pred_pca)\n",
    "r2_pca = r2_score(Y_test, Y_pred_pca)\n",
    "\n",
    "# Print evaluation metrics for the model with PCA\n",
    "print(\"Metrics with PCA (10 components):\")\n",
    "print(\"Mean Squared Error (MSE):\", mse_pca)\n",
    "print(\"Root Mean Squared Error (RMSE):\", rmse_pca)\n",
    "print(\"Mean Absolute Error (MAE):\", mae_pca)\n",
    "print(\"R-squared (R2):\", r2_pca)\n"
   ]
  },
  {
   "cell_type": "code",
   "execution_count": 21,
   "metadata": {},
   "outputs": [
    {
     "name": "stdout",
     "output_type": "stream",
     "text": [
      "Metrics for SGD Regressor:\n",
      "Mean Squared Error (MSE): 4925.9911513907655\n",
      "Root Mean Squared Error (RMSE): 70.185405544107\n",
      "Mean Absolute Error (MAE): 41.89363788855095\n",
      "R-squared (R2): 0.730982171451033\n"
     ]
    }
   ],
   "source": [
    "from sklearn.linear_model import SGDRegressor\n",
    "from sklearn.metrics import mean_squared_error, mean_absolute_error, r2_score\n",
    "import numpy as np\n",
    "\n",
    "# Create an SGD Regressor with appropriate parameters\n",
    "sgd_regressor = SGDRegressor(loss='squared_error', max_iter=1000, tol=1e-3, random_state=42)\n",
    "\n",
    "# Fit the model on the training data\n",
    "sgd_regressor.fit(X_train_scaled, Y_train)\n",
    "\n",
    "# Predict on the test data\n",
    "Y_pred_sgd = sgd_regressor.predict(X_test_scaled)\n",
    "\n",
    "# Evaluate the model\n",
    "mse_sgd = mean_squared_error(Y_test, Y_pred_sgd)\n",
    "rmse_sgd = np.sqrt(mse_sgd)\n",
    "mae_sgd = mean_absolute_error(Y_test, Y_pred_sgd)\n",
    "r2_sgd = r2_score(Y_test, Y_pred_sgd)\n",
    "\n",
    "# Print evaluation metrics for the SGD Regressor\n",
    "print(\"Metrics for SGD Regressor:\")\n",
    "print(\"Mean Squared Error (MSE):\", mse_sgd)\n",
    "print(\"Root Mean Squared Error (RMSE):\", rmse_sgd)\n",
    "print(\"Mean Absolute Error (MAE):\", mae_sgd)\n",
    "print(\"R-squared (R2):\", r2_sgd)\n"
   ]
  },
  {
   "cell_type": "code",
   "execution_count": 22,
   "metadata": {},
   "outputs": [
    {
     "name": "stdout",
     "output_type": "stream",
     "text": [
      "Decision Tree Regression Metrics:\n",
      "Mean Squared Error (MSE): 3776.8908504134474\n",
      "Root Mean Squared Error (RMSE): 61.4564142332877\n",
      "Mean Absolute Error (MAE): 34.27417931300116\n",
      "R-squared (R2): 0.793736743729671\n"
     ]
    }
   ],
   "source": [
    "from sklearn.tree import DecisionTreeRegressor\n",
    "from sklearn.metrics import mean_squared_error, mean_absolute_error, r2_score\n",
    "from sklearn.model_selection import GridSearchCV, train_test_split\n",
    "from sklearn.preprocessing import StandardScaler\n",
    "import numpy as np\n",
    "\n",
    "# Assuming you have X_train, X_test, Y_train, Y_test from your previous preprocessing steps\n",
    "\n",
    "# Create a Decision Tree Regressor\n",
    "dt_regressor = DecisionTreeRegressor(random_state=42)\n",
    "\n",
    "# Define hyperparameters to tune\n",
    "param_grid = {\n",
    "    'max_depth': [None, 10, 20, 30],\n",
    "    'min_samples_split': [2, 5, 10],\n",
    "    'min_samples_leaf': [1, 2, 4]\n",
    "}\n",
    "\n",
    "# Use GridSearchCV for hyperparameter tuning\n",
    "grid_search = GridSearchCV(dt_regressor, param_grid, cv=5, scoring='neg_mean_squared_error', n_jobs=-1)\n",
    "grid_search.fit(X_train, Y_train)\n",
    "\n",
    "# Get the best model from the grid search\n",
    "best_dt_model = grid_search.best_estimator_\n",
    "\n",
    "# Make predictions on the test set\n",
    "Y_pred_dt = best_dt_model.predict(X_test)\n",
    "\n",
    "# Evaluate the model\n",
    "mse_dt = mean_squared_error(Y_test, Y_pred_dt)\n",
    "rmse_dt = np.sqrt(mse_dt)\n",
    "mae_dt = mean_absolute_error(Y_test, Y_pred_dt)\n",
    "r2_dt = r2_score(Y_test, Y_pred_dt)\n",
    "\n",
    "# Print evaluation metrics\n",
    "print(\"Decision Tree Regression Metrics:\")\n",
    "print(\"Mean Squared Error (MSE):\", mse_dt)\n",
    "print(\"Root Mean Squared Error (RMSE):\", rmse_dt)\n",
    "print(\"Mean Absolute Error (MAE):\", mae_dt)\n",
    "print(\"R-squared (R2):\", r2_dt)\n"
   ]
  },
  {
   "cell_type": "code",
   "execution_count": 24,
   "metadata": {},
   "outputs": [
    {
     "name": "stdout",
     "output_type": "stream",
     "text": [
      "Random Forest Regression Metrics:\n",
      "Mean Squared Error (MSE): 2498.5343534913814\n",
      "Root Mean Squared Error (RMSE): 49.985341386164215\n",
      "Mean Absolute Error (MAE): 26.40565481939255\n",
      "R-squared (R2): 0.8635502448798595\n"
     ]
    }
   ],
   "source": [
    "from sklearn.impute import SimpleImputer\n",
    "from sklearn.ensemble import RandomForestRegressor\n",
    "from sklearn.metrics import mean_squared_error, mean_absolute_error, r2_score\n",
    "from sklearn.model_selection import train_test_split\n",
    "import numpy as np\n",
    "\n",
    "# Assuming you have X and Y from your dataframe\n",
    "# X = df.drop('AQI', axis=1)\n",
    "# Y = df['AQI']\n",
    "\n",
    "# Split the data into training and testing sets\n",
    "X_train, X_test, Y_train, Y_test = train_test_split(X, Y, test_size=0.2, random_state=42)\n",
    "\n",
    "# Create the SimpleImputer\n",
    "imputer = SimpleImputer(strategy='mean')\n",
    "\n",
    "# Fit and transform the imputer on the training data\n",
    "X_train = imputer.fit_transform(X_train)\n",
    "X_test = imputer.transform(X_test)\n",
    "\n",
    "# Create the Random Forest Regressor model\n",
    "random_forest_model = RandomForestRegressor(n_estimators=100, random_state=42)\n",
    "\n",
    "# Fit the model to the training data\n",
    "random_forest_model.fit(X_train, Y_train)\n",
    "\n",
    "# Make predictions on the test data\n",
    "Y_pred = random_forest_model.predict(X_test)\n",
    "\n",
    "# Evaluate the model\n",
    "mse = mean_squared_error(Y_test, Y_pred)\n",
    "rmse = np.sqrt(mse)\n",
    "mae = mean_absolute_error(Y_test, Y_pred)\n",
    "r2 = r2_score(Y_test, Y_pred)\n",
    "\n",
    "# Print the evaluation metrics\n",
    "print(\"Random Forest Regression Metrics:\")\n",
    "print(\"Mean Squared Error (MSE):\", mse)\n",
    "print(\"Root Mean Squared Error (RMSE):\", rmse)\n",
    "print(\"Mean Absolute Error (MAE):\", mae)\n",
    "print(\"R-squared (R2):\", r2)\n"
   ]
  },
  {
   "cell_type": "code",
   "execution_count": 27,
   "metadata": {},
   "outputs": [
    {
     "data": {
      "text/plain": [
       "['AQI_Random.joblib']"
      ]
     },
     "execution_count": 27,
     "metadata": {},
     "output_type": "execute_result"
    }
   ],
   "source": [
    "import joblib\n",
    "\n",
    "# Save the model to a file\n",
    "joblib.dump(random_forest_model, 'AQI_Random.joblib')\n"
   ]
  }
 ],
 "metadata": {
  "kernelspec": {
   "display_name": "virtualenv",
   "language": "python",
   "name": "virtualenv"
  },
  "language_info": {
   "codemirror_mode": {
    "name": "ipython",
    "version": 3
   },
   "file_extension": ".py",
   "mimetype": "text/x-python",
   "name": "python",
   "nbconvert_exporter": "python",
   "pygments_lexer": "ipython3",
   "version": "3.11.0"
  }
 },
 "nbformat": 4,
 "nbformat_minor": 2
}
